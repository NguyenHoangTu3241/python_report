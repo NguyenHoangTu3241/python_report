{
 "cells": [
  {
   "cell_type": "markdown",
   "metadata": {},
   "source": [
    "INITIALIZATION"
   ]
  },
  {
   "cell_type": "code",
   "execution_count": null,
   "metadata": {},
   "outputs": [],
   "source": [
    "# Tải các thư viện\n",
    "%pip install github pandas"
   ]
  },
  {
   "cell_type": "code",
   "execution_count": 1,
   "metadata": {},
   "outputs": [],
   "source": [
    "# Nhập các thư viện\n",
    "import pandas as pd\n",
    "from github import Github\n",
    "from datetime import datetime"
   ]
  },
  {
   "cell_type": "markdown",
   "metadata": {},
   "source": [
    "GETTING REPO"
   ]
  },
  {
   "cell_type": "code",
   "execution_count": 2,
   "metadata": {},
   "outputs": [],
   "source": [
    "# Khai báo token và repo cần phân tích\n",
    "token_first_half = 'ghp_ckXuwpJIUBcDtI'\n",
    "token_second_half = '6jF9cJ0KrUY4dyWH2FUqM4'\n",
    "repo_owner = 'Anuken'\n",
    "repo_name = 'Mindustry'\n",
    "\n",
    "# Lấy repo\n",
    "g = Github(token_first_half + token_second_half)\n",
    "repo = g.get_repo(f\"{repo_owner}/{repo_name}\")"
   ]
  },
  {
   "cell_type": "markdown",
   "metadata": {},
   "source": [
    "COLLECTING RAW DATA"
   ]
  },
  {
   "cell_type": "code",
   "execution_count": 3,
   "metadata": {},
   "outputs": [],
   "source": [
    "# Thu thập dữ liệu về commits (trong năm 2023)\n",
    "start_date = datetime(2023, 1, 1)\n",
    "end_date = datetime(2023, 12, 31, 23, 59, 59)\n",
    "commits = repo.get_commits(since= start_date, until = end_date)\n",
    "\n",
    "# Thu thập dữ liệu về contributors\n",
    "contributors = repo.get_contributors()\n",
    "\n",
    "# Thu thập dữ liệu về issues\n",
    "issues = repo.get_issues(state='all')\n",
    "\n",
    "# Thu thập dữ liệu về pull requests\n",
    "pulls = repo.get_pulls(state='all')\n",
    "\n",
    "# Thu thập dữ liệu về programming languages\n",
    "languages = repo.get_languages()\n",
    "\n",
    "# Thu thập dữ liệu về files\n",
    "contents = repo.get_contents(\"\")\n"
   ]
  },
  {
   "cell_type": "markdown",
   "metadata": {},
   "source": [
    "SAVING RAW DATA TO CSV DATAFRAMES"
   ]
  },
  {
   "cell_type": "markdown",
   "metadata": {},
   "source": [
    "SAVING COMMITS"
   ]
  },
  {
   "cell_type": "code",
   "execution_count": 5,
   "metadata": {},
   "outputs": [],
   "source": [
    "# Tạo bảng mới\n",
    "commit_data = []\n",
    "\n",
    "# Thêm dữ liệu vào bảng\n",
    "for commit in commits:\n",
    "    commit_files = [file.filename for file in commit.files]\n",
    "    commit_data.append({\n",
    "        'sha': commit.sha,\n",
    "        'date': commit.commit.author.date,\n",
    "        'author': commit.author.login if commit.author else 'unknown',\n",
    "        'message': commit.commit.message,\n",
    "        'files_changed': len(commit_files),\n",
    "        'files_commited': commit_files\n",
    "    })\n",
    "\n",
    "# Lưu dữ liệu thô\n",
    "pd.DataFrame(commit_data).to_csv('data_raw/commits.csv', index= False)"
   ]
  },
  {
   "cell_type": "markdown",
   "metadata": {},
   "source": [
    "SAVING CONTRIBUTORS"
   ]
  },
  {
   "cell_type": "code",
   "execution_count": null,
   "metadata": {},
   "outputs": [],
   "source": [
    "# Tạo bảng mới\n",
    "contributors_data = []\n",
    "\n",
    "# Thêm dữ liệu vào bảng\n",
    "for contributor in contributors:\n",
    "    contributors_data.append({\n",
    "        'login': contributor.login,\n",
    "        'commits': contributor.contributions,\n",
    "        'location': contributor.location,\n",
    "        'avatar_url': contributor.avatar_url\n",
    "    })\n",
    "\n",
    "# Lưu dữ liệu thô\n",
    "pd.DataFrame(contributors_data).to_csv('data_raw/contributors.csv', index=False)"
   ]
  },
  {
   "cell_type": "markdown",
   "metadata": {},
   "source": [
    "SAVING ISSUES"
   ]
  },
  {
   "cell_type": "code",
   "execution_count": null,
   "metadata": {},
   "outputs": [],
   "source": [
    "# Tạo bảng mới\n",
    "issues_data = []\n",
    "\n",
    "# Thêm dữ liệu vào bảng\n",
    "for issue in issues:\n",
    "    if issue.pull_request:\n",
    "        continue\n",
    "    labels = [label.name for label in issue.labels]\n",
    "    if not labels:\n",
    "            labels = ['unlabeled']\n",
    "    issues_data.append({\n",
    "        'number': issue.number,\n",
    "        'state': issue.state,\n",
    "        'contributor': issue.user.login,\n",
    "        'created_at': issue.created_at,\n",
    "        'closed_at': issue.closed_at,\n",
    "        'title': issue.title,\n",
    "        'labels': labels\n",
    "    })\n",
    "\n",
    "# Lưu dữ liệu thô\n",
    "pd.DataFrame(issues_data).to_csv('data_raw/issues.csv', index= False)"
   ]
  },
  {
   "cell_type": "markdown",
   "metadata": {},
   "source": [
    "SAVING PULL REQUESTS"
   ]
  },
  {
   "cell_type": "code",
   "execution_count": null,
   "metadata": {},
   "outputs": [],
   "source": [
    "# Tạo bảng mới\n",
    "pulls_data = []\n",
    "\n",
    "# Thêm dữ liệu vào bảng\n",
    "for pull in pulls:\n",
    "    pulls_data.append({\n",
    "            'number': pull.number,\n",
    "            'state': pull.state,\n",
    "            'created_at': pull.created_at,\n",
    "            'merged_at': pull.merged_at,\n",
    "            'closed_at': pull.closed_at,\n",
    "            'title': pull.title,\n",
    "        })\n",
    "\n",
    "# Lưu dữ liệu thô\n",
    "pd.DataFrame(pulls_data).to_csv('data_raw/pull_requests.csv', index= False)"
   ]
  },
  {
   "cell_type": "markdown",
   "metadata": {},
   "source": [
    "SAVING PROGRAMMING LANGUAGES"
   ]
  },
  {
   "cell_type": "code",
   "execution_count": null,
   "metadata": {},
   "outputs": [],
   "source": [
    "# Tạo bảng mới\n",
    "languages_data = []\n",
    "\n",
    "# Thêm dữ liệu vào bảng\n",
    "for language, lines in languages.items():\n",
    "    languages_data.append({\n",
    "        'language': language,\n",
    "        'lines': lines\n",
    "    })\n",
    "\n",
    "# Lưu dữ liệu thô\n",
    "pd.DataFrame(languages_data).to_csv('data_raw/languages.csv', index= False)"
   ]
  },
  {
   "cell_type": "markdown",
   "metadata": {},
   "source": [
    "SAVING FILES"
   ]
  },
  {
   "cell_type": "code",
   "execution_count": null,
   "metadata": {},
   "outputs": [],
   "source": [
    "# Tạo bảng mới\n",
    "files_data = []\n",
    "\n",
    "# Thêm dữ liệu vào bảng\n",
    "while contents:\n",
    "    file_content = contents.pop(0)\n",
    "    if file_content.type == \"dir\":\n",
    "        contents.extend(repo.get_contents(file_content.path))\n",
    "    else:\n",
    "        files_data.append({\n",
    "            'path': file_content.path,\n",
    "            'size': file_content.size,\n",
    "        })\n",
    "\n",
    "# Lưu dữ liệu thô\n",
    "pd.DataFrame(files_data).to_csv('data_raw/files.csv', index= False)"
   ]
  }
 ],
 "metadata": {
  "kernelspec": {
   "display_name": "base",
   "language": "python",
   "name": "python3"
  },
  "language_info": {
   "codemirror_mode": {
    "name": "ipython",
    "version": 3
   },
   "file_extension": ".py",
   "mimetype": "text/x-python",
   "name": "python",
   "nbconvert_exporter": "python",
   "pygments_lexer": "ipython3",
   "version": "3.12.2"
  }
 },
 "nbformat": 4,
 "nbformat_minor": 2
}
